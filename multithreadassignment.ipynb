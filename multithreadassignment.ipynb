{
 "cells": [
  {
   "cell_type": "code",
   "execution_count": null,
   "id": "d144b967-63ce-4a8c-bde6-05e579968393",
   "metadata": {},
   "outputs": [],
   "source": [
    "\"\"\"1. Discuss the scenarios where multithreading is preferable to multiprocessing and scenarios where \n",
    "multiprocessing is a better choice.\n",
    " 2. Describe what a process pool is and how it helps in managing multiple processes efficiently.\n",
    " 3. Explain what multiprocessing is and why it is used in Python programs.\n",
    " 4. Write a Python program using multithreading where one thread adds numbers to a list, and another \n",
    "thread removes numbers from the list. Implement a mechanism to avoid race conditions using \n",
    "threading.Lock.\n",
    " 5. Describe the methods and tools available in Python for safely sharing data between threads and \n",
    "processes.\n",
    " 6. Discuss why it’s crucial to handle exceptions in concurrent programs and the techniques available for \n",
    "doing so.\n",
    " 7. Create a program that uses a thread pool to calculate the factorial of numbers from 1 to 10 concurrently. \n",
    "Use concurrent.futures.ThreadPoolExecutor to manage the threads.\n",
    " 8. Create a Python program that uses multiprocessing.Pool to compute the square of numbers from 1 to 10 in \n",
    "parallel. Measure the time taken to perform this computation using a pool of different sizes (e.g., 2, 4, 8 \n",
    "processes).\"\"\""
   ]
  },
  {
   "cell_type": "code",
   "execution_count": null,
   "id": "6658cf29-06dd-4d0d-bb9e-1de16a74d169",
   "metadata": {},
   "outputs": [],
   "source": [
    "\"\"\"1. Discuss the scenarios where multithreading is preferable to multiprocessing and scenarios where \n",
    "multiprocessing is a better choice.\n",
    "\n",
    "Ans\n",
    "Multithreading is ideal for tasks that are I/O-bound or require frequent access to shared data, as threads can efficiently communicate and synchronise access to shared resources.\n",
    "Multiprocessing: Best suited for CPU-intensive tasks that can be easily parallelised without frequent inter-process communication\n",
    "\"\"\""
   ]
  },
  {
   "cell_type": "code",
   "execution_count": null,
   "id": "a6a681d1-95fb-4d3e-9aad-0fff3d80f8c5",
   "metadata": {},
   "outputs": [],
   "source": [
    "\"\"\"\n",
    "2.A process pool is a programming pattern for automatically managing a pool of worker processes. . The Pool Class automatically distributes the tasks to the available processors using a FIFO scheduling manner.\n",
    "\n",
    "Ans.\n",
    "A process pool is a programming pattern for automatically managing a pool of worker processes. . The Pool Class automatically distributes the tasks to the available processors using a FIFO scheduling manner.\n",
    "\"\"\""
   ]
  },
  {
   "cell_type": "code",
   "execution_count": null,
   "id": "5cfab536-e7e9-4ff1-b8b7-1c5a922c9502",
   "metadata": {},
   "outputs": [],
   "source": [
    "\"\"\"\n",
    "3.Explain what multiprocessing is and why it is used in Python programs.\n",
    "Multiprocessing in Python is a built-in package that allows the system to run multiple processes simultaneously. It will enable the breaking of applications into smaller threads that can run independently\n",
    "\"\"\""
   ]
  },
  {
   "cell_type": "code",
   "execution_count": null,
   "id": "3e20b4e1-6910-4fc3-a0b6-7587cad0375a",
   "metadata": {},
   "outputs": [],
   "source": [
    "\"\"\"\n",
    "4.  Write a Python program using multithreading where one thread adds numbers to a list, and another \n",
    "thread removes numbers from the list. Implement a mechanism to avoid race conditions using \n",
    "threading.Lock\n",
    "\"\"\"\n",
    "from threading import Thread, Lock\n",
    "from time import sleep\n",
    "counter = 0\n",
    "def increase(by,lock):\n",
    "    global counter\n",
    "    with lock:\n",
    "        local_counter = counter\n",
    "        local_counter += by\n",
    "        sleep(1)\n",
    "        counter = local_counter\n",
    "        print(f'counter={counter}')\n",
    "lock=Lock()\n",
    "t1 = Thread(target=increase, args=(10,))\n",
    "t2 = Thread(target=increase, args=(20,))\n",
    "t1.start()\n",
    "t2.start()\n",
    "t1.join()\n",
    "t2.join()\n",
    "print(f'The final counter is {counter}')"
   ]
  },
  {
   "cell_type": "code",
   "execution_count": null,
   "id": "e23a90a0-2ec6-446d-917c-1d7fa7cb3051",
   "metadata": {},
   "outputs": [],
   "source": [
    "\"\"\"\n",
    " 5. Describe the methods and tools available in Python for safely sharing data between threads and \n",
    "processes.\n",
    "Ans.\n",
    "Queue Module: Employ the queue module for thread-safe data sharing via queues. \n",
    "Thread-Safe Data Structures: Leverage collections module for thread-safe data structures like deque. \n",
    "Locks: Implement threading. Lock to synchronize access, preventing concurrent modifications.\n",
    "\"\"\""
   ]
  },
  {
   "cell_type": "code",
   "execution_count": null,
   "id": "04878c4b-8892-4fb1-9789-0329c5f1dbae",
   "metadata": {},
   "outputs": [],
   "source": [
    "\"\"\"\n",
    " 6. Discuss why it’s crucial to handle exceptions in concurrent programs and the techniques available for \n",
    "doing so.\n",
    "\n",
    "Ans. Exception handling is crucial in concurrent programs because it prevents the application from crashing\n",
    "when multiple threads are executing simultaneously.If exceptions are not handled properly, they can propagate \n",
    "to other threads and cause the entire application to crash.\n",
    "\"\"\""
   ]
  },
  {
   "cell_type": "code",
   "execution_count": null,
   "id": "4127b9cf-6af9-437d-b7ee-0fad09449e77",
   "metadata": {},
   "outputs": [],
   "source": [
    "\"\"\"\n",
    "7. Create a program that uses a thread pool to calculate the factorial of numbers from 1 to 10 concurrently. \n",
    "Use concurrent.futures.ThreadPoolExecutor to manage the threads.\n",
    "\"\"\"\n",
    "import multiprocessing\n",
    "import time\n",
    "start=time.perf_counter()\n",
    "def fact(num):\n",
    "    factorial = 1\n",
    "    for i in range(1, len(num) + 1):\n",
    "        factorial *= i\n",
    "num=[1,2,3,4,5,6,7,8,9,10]\n",
    "with multiprocessing.Pool() as pool:\n",
    "    pool.map(fact,num)\n",
    "end= time.perf_counter()\n",
    "print(f\"The program finished in {round(end-start,2)} seconds\")"
   ]
  },
  {
   "cell_type": "code",
   "execution_count": null,
   "id": "67369cea-2928-46a1-ae8a-3d563396224f",
   "metadata": {},
   "outputs": [],
   "source": [
    "\"\"\"\n",
    " 8. Create a Python program that uses multiprocessing.Pool to compute the square of numbers from 1 to 10 in \n",
    "parallel. Measure the time taken to perform this computation using a pool of different sizes (e.g., 2, 4, 8 \n",
    "processes)\n",
    "\"\"\"\n",
    "# Using multiprocessing pool\n",
    "import multiprocessing\n",
    "import time\n",
    "start=time.perf_counter()\n",
    "def square(no):\n",
    "    result=no*no\n",
    "    print(f\"The square of {no} is {result}\")\n",
    "numbers =[1,2,3,4,600]\n",
    "with multiprocessing.Pool() as pool:\n",
    "    pool.map(square,numbers)\n",
    "end= time.perf_counter()\n",
    "print(f\"The program finished in {round(end-start,2)} seconds\")\n"
   ]
  }
 ],
 "metadata": {
  "kernelspec": {
   "display_name": "Python 3 (ipykernel)",
   "language": "python",
   "name": "python3"
  },
  "language_info": {
   "codemirror_mode": {
    "name": "ipython",
    "version": 3
   },
   "file_extension": ".py",
   "mimetype": "text/x-python",
   "name": "python",
   "nbconvert_exporter": "python",
   "pygments_lexer": "ipython3",
   "version": "3.12.6"
  }
 },
 "nbformat": 4,
 "nbformat_minor": 5
}
